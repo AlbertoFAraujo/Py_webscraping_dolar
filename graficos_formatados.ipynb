{
 "cells": [
  {
   "cell_type": "code",
   "execution_count": 10,
   "id": "9471e12d",
   "metadata": {},
   "outputs": [
    {
     "name": "stdout",
     "output_type": "stream",
     "text": [
      "Overwriting graficos_formatados.py\n"
     ]
    }
   ],
   "source": [
    "%%writefile graficos_formatados.py\n",
    "import plotly.express as px\n",
    "\n",
    "def plotar_grafico_linha(df, titulo, x, y, cor_paleta, cor_grafico, cor_titulo, xnome_eixo=None, ynome_eixo=None, \n",
    "                         tema='plotly_white', mostrar_grade_x=False, mostrar_grade_y=False):\n",
    "    \"\"\"\n",
    "    Cria um gráfico de linhas baseado em informações do DataFrame fornecido.\n",
    "\n",
    "    Args:\n",
    "        df (DataFrame): O DataFrame contendo os dados.\n",
    "        titulo (str): Título do gráfico.\n",
    "        x (str): Nome da coluna para o eixo x.\n",
    "        y (str): Nome da coluna para o eixo y.\n",
    "        cor_paleta (str): Cor da paleta, em hexadecimal, RGB...\n",
    "        cor_grafico (str): Cor do gráfico, em hexadecimal, RGB...\n",
    "        cor_titulo (str): Cor do título, em hexadecimal, RGB...\n",
    "        xnome_eixo (str, opcional): Nome do eixo x. Padronizado para o valor de 'x'.\n",
    "        ynome_eixo (str, opcional): Nome do eixo y. Padronizado para o valor de 'y'.\n",
    "        tema (str, opcional): Tema do gráfico. Padronizado para 'plotly_white'.\n",
    "        mostrar_grade_x (bool, opcional): Booleano indicando se a grade do eixo x deve ser mostrada. Padrão é False.\n",
    "        mostrar_grade_y (bool, opcional): Booleano indicando se a grade do eixo y deve ser mostrada. Padrão é False.\n",
    "\n",
    "    Returns:\n",
    "        Exibição do gráfico\n",
    "    \"\"\"\n",
    "    fig = px.line(df, x=x, y=y, color_discrete_sequence=[cor_grafico])\n",
    "    \n",
    "    # Configuração do layout do gráfico\n",
    "    _configurar_layout(fig, titulo, cor_titulo, cor_paleta, xnome_eixo, ynome_eixo, tema, mostrar_grade_x, mostrar_grade_y)\n",
    "    \n",
    "    # Exibir o gráfico\n",
    "    fig.show()\n",
    "\n",
    "# Função auxiliar para configurar o layout do gráfico\n",
    "def _configurar_layout(fig, titulo, cor_titulo, cor_paleta,x,y, xnome_eixo, ynome_eixo, tema, mostrar_grade_x, mostrar_grade_y):\n",
    "    \"\"\"\n",
    "    Configura o layout do gráfico.\n",
    "\n",
    "    Args:\n",
    "        fig (plotly.graph_objs.Figure): Instância do gráfico Plotly.\n",
    "        titulo (str): Título do gráfico.\n",
    "        cor_titulo (str): Cor do título.\n",
    "        cor_paleta (str): Cor da paleta.\n",
    "        xnome_eixo (str): Nome do eixo x.\n",
    "        ynome_eixo (str): Nome do eixo y.\n",
    "        tema (str): Tema do gráfico.\n",
    "        mostrar_grade_x (bool): Booleano indicando se a grade do eixo x deve ser mostrada.\n",
    "        mostrar_grade_y (bool): Booleano indicando se a grade do eixo y deve ser mostrada.\n",
    "\n",
    "    Returns:\n",
    "        None\n",
    "    \"\"\"\n",
    "    fig.update_layout(\n",
    "        # Título\n",
    "        title=dict(text=titulo, font=dict(size=20, color=cor_titulo), x=0.5),\n",
    "        # Eixo X\n",
    "        xaxis_title=xnome_eixo if xnome_eixo else x,\n",
    "        xaxis_title_font_color=cor_paleta,\n",
    "        xaxis_color=cor_paleta,\n",
    "        xaxis_showgrid=mostrar_grade_x,\n",
    "        # Eixo Y\n",
    "        yaxis_title=ynome_eixo if ynome_eixo else y,\n",
    "        yaxis_title_font_color=cor_paleta,\n",
    "        yaxis_color=cor_paleta,\n",
    "        yaxis_showgrid=mostrar_grade_y,\n",
    "        # Tema\n",
    "        template=tema\n",
    "    )"
   ]
  },
  {
   "cell_type": "code",
   "execution_count": null,
   "id": "f4f9f14a",
   "metadata": {},
   "outputs": [],
   "source": []
  }
 ],
 "metadata": {
  "kernelspec": {
   "display_name": "Python 3 (ipykernel)",
   "language": "python",
   "name": "python3"
  },
  "language_info": {
   "codemirror_mode": {
    "name": "ipython",
    "version": 3
   },
   "file_extension": ".py",
   "mimetype": "text/x-python",
   "name": "python",
   "nbconvert_exporter": "python",
   "pygments_lexer": "ipython3",
   "version": "3.9.18"
  }
 },
 "nbformat": 4,
 "nbformat_minor": 5
}
